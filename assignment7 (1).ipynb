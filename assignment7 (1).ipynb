{
  "nbformat": 4,
  "nbformat_minor": 0,
  "metadata": {
    "colab": {
      "provenance": []
    },
    "kernelspec": {
      "name": "python3",
      "display_name": "Python 3"
    },
    "language_info": {
      "name": "python"
    }
  },
  "cells": [
    {
      "cell_type": "code",
      "execution_count": 1,
      "metadata": {
        "id": "WFhFW2nqT0D9"
      },
      "outputs": [],
      "source": [
        "# Step 1: Import Libraries\n",
        "import numpy as np\n",
        "import pandas as pd\n",
        "from sklearn.datasets import fetch_california_housing\n",
        "from sklearn.model_selection import train_test_split, GridSearchCV, RandomizedSearchCV\n",
        "from sklearn.linear_model import LinearRegression, Ridge, Lasso\n",
        "from sklearn.ensemble import RandomForestRegressor, GradientBoostingRegressor\n",
        "from sklearn.metrics import mean_squared_error, r2_score\n",
        "\n"
      ]
    },
    {
      "cell_type": "code",
      "source": [
        "# Step 2: Load Dataset\n",
        "data = fetch_california_housing()\n",
        "X = pd.DataFrame(data.data, columns=data.feature_names)\n",
        "y = data.target\n"
      ],
      "metadata": {
        "id": "EZ_IEIkxUKt6"
      },
      "execution_count": 2,
      "outputs": []
    },
    {
      "cell_type": "code",
      "source": [
        "# Step 3: Train-Test Split\n",
        "X_train, X_test, y_train, y_test = train_test_split(X, y, test_size=0.2, random_state=42)\n",
        "\n"
      ],
      "metadata": {
        "id": "22Yi2zTAUOYO"
      },
      "execution_count": 3,
      "outputs": []
    },
    {
      "cell_type": "code",
      "source": [
        "# Step 4: Linear Regression (baseline)\n",
        "lr = LinearRegression()\n",
        "lr.fit(X_train, y_train)\n",
        "y_pred_lr = lr.predict(X_test)\n"
      ],
      "metadata": {
        "id": "sX-nMAUXUSoZ"
      },
      "execution_count": 4,
      "outputs": []
    },
    {
      "cell_type": "code",
      "source": [
        "# Step 5: Ridge Regression\n",
        "ridge = Ridge(alpha=1.0)\n",
        "ridge.fit(X_train, y_train)\n",
        "y_pred_ridge = ridge.predict(X_test)\n",
        "\n"
      ],
      "metadata": {
        "id": "0hEIS05SUbA4"
      },
      "execution_count": 5,
      "outputs": []
    },
    {
      "cell_type": "code",
      "source": [
        "# Step 6: Lasso Regression\n",
        "lasso = Lasso(alpha=0.1)\n",
        "lasso.fit(X_train, y_train)\n",
        "y_pred_lasso = lasso.predict(X_test)\n",
        "\n"
      ],
      "metadata": {
        "id": "RutS4tg2UeX_"
      },
      "execution_count": 6,
      "outputs": []
    },
    {
      "cell_type": "code",
      "source": [
        "# Step 7: Random Forest with Grid Search\n",
        "rf = RandomForestRegressor(random_state=42)\n",
        "param_grid_rf = {\n",
        "    'n_estimators': [50, 100],\n",
        "    'max_depth': [None, 10, 20]\n",
        "}\n",
        "grid_rf = GridSearchCV(rf, param_grid_rf, cv=3)\n",
        "grid_rf.fit(X_train, y_train)\n",
        "y_pred_rf = grid_rf.predict(X_test)\n",
        "\n",
        "\n"
      ],
      "metadata": {
        "id": "eEyQzl8vUh0r"
      },
      "execution_count": 7,
      "outputs": []
    },
    {
      "cell_type": "code",
      "source": [
        "# Step 8: Gradient Boosting with Randomized Search\n",
        "gb = GradientBoostingRegressor(random_state=42)\n",
        "param_dist_gb = {\n",
        "    'n_estimators': [50, 100, 150],\n",
        "    'learning_rate': [0.01, 0.1, 0.2],\n",
        "    'max_depth': [3, 5, 7]\n",
        "}\n",
        "rand_gb = RandomizedSearchCV(gb, param_dist_gb, n_iter=5, cv=3, random_state=42)\n",
        "rand_gb.fit(X_train, y_train)\n",
        "y_pred_gb = rand_gb.predict(X_test)\n"
      ],
      "metadata": {
        "id": "hhr1jRRAUsXW"
      },
      "execution_count": 8,
      "outputs": []
    },
    {
      "cell_type": "code",
      "source": [
        "# Step 9: Evaluation\n",
        "def evaluate(model_name, y_true, y_pred):\n",
        "    print(f\"{model_name}:\\n  RMSE: {np.sqrt(mean_squared_error(y_true, y_pred)):.4f}\\n  R²: {r2_score(y_true, y_pred):.4f}\\n\")\n",
        "\n",
        "evaluate(\"Linear Regression\", y_test, y_pred_lr)\n",
        "evaluate(\"Ridge Regression\", y_test, y_pred_ridge)\n",
        "evaluate(\"Lasso Regression\", y_test, y_pred_lasso)\n",
        "evaluate(\"Random Forest (Grid Search)\", y_test, y_pred_rf)\n",
        "evaluate(\"Gradient Boosting (Random Search)\", y_test, y_pred_gb)\n"
      ],
      "metadata": {
        "id": "MIqNr6CYUxBj",
        "colab": {
          "base_uri": "https://localhost:8080/"
        },
        "outputId": "1aaef7f9-d6a6-4970-86f5-6ab068e9243a"
      },
      "execution_count": 9,
      "outputs": [
        {
          "output_type": "stream",
          "name": "stdout",
          "text": [
            "Linear Regression:\n",
            "  RMSE: 0.7456\n",
            "  R²: 0.5758\n",
            "\n",
            "Ridge Regression:\n",
            "  RMSE: 0.7455\n",
            "  R²: 0.5759\n",
            "\n",
            "Lasso Regression:\n",
            "  RMSE: 0.7833\n",
            "  R²: 0.5318\n",
            "\n",
            "Random Forest (Grid Search):\n",
            "  RMSE: 0.5058\n",
            "  R²: 0.8047\n",
            "\n",
            "Gradient Boosting (Random Search):\n",
            "  RMSE: 0.4976\n",
            "  R²: 0.8110\n",
            "\n"
          ]
        }
      ]
    }
  ]
}