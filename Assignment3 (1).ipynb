{
  "nbformat": 4,
  "nbformat_minor": 0,
  "metadata": {
    "colab": {
      "provenance": []
    },
    "kernelspec": {
      "name": "python3",
      "display_name": "Python 3"
    },
    "language_info": {
      "name": "python"
    }
  },
  "cells": [
    {
      "cell_type": "code",
      "execution_count": 1,
      "metadata": {
        "colab": {
          "base_uri": "https://localhost:8080/"
        },
        "id": "7Buz70Pejp_s",
        "outputId": "b8d9599e-695a-43fd-fd29-522a555d8b6e"
      },
      "outputs": [
        {
          "output_type": "stream",
          "name": "stdout",
          "text": [
            "Probability of Heads: 0.7\n",
            "Probability of Tails: 0.3\n"
          ]
        }
      ],
      "source": [
        "# Dataset: 70 heads, 30 tails from 100 coin flips\n",
        "heads = 70\n",
        "tails = 30\n",
        "total = heads + tails\n",
        "\n",
        "# Probability calculations\n",
        "p_heads = heads / total\n",
        "p_tails = tails / total\n",
        "\n",
        "print(f\"Probability of Heads: {p_heads}\")\n",
        "print(f\"Probability of Tails: {p_tails}\")\n",
        ""
      ]
    },
    {
      "cell_type": "code",
      "source": [
        "#Bayes' Theorem: P(Disease|Positive) = (P(Positive|Disease) * P(Disease)) / P(Positive)\n",
        "\n",
        "# Let's assume:\n",
        "P_disease = 0.03                 # 3% of people have the disease\n",
        "P_positive_given_disease = 0.97  # 97% chance test is positive if diseased\n",
        "P_positive_given_no_disease = 0.05  # 5% false positive rate\n",
        "\n",
        "# Total probability of testing positive:\n",
        "P_no_disease = 1 - P_disease\n",
        "P_positive = (P_positive_given_disease * P_disease) + (P_positive_given_no_disease * P_no_disease)\n",
        "\n",
        "# Bayes' Theorem\n",
        "P_disease_given_positive = (P_positive_given_disease * P_disease) / P_positive\n",
        "\n",
        "print(f\"Probability of having disease given a positive test: {P_disease_given_positive:.4f}\")\n",
        ""
      ],
      "metadata": {
        "colab": {
          "base_uri": "https://localhost:8080/"
        },
        "id": "P753552Uj9N5",
        "outputId": "cac6015f-dace-413c-cafc-0949f5b549a4"
      },
      "execution_count": 2,
      "outputs": [
        {
          "output_type": "stream",
          "name": "stdout",
          "text": [
            "Probability of having disease given a positive test: 0.3750\n"
          ]
        }
      ]
    },
    {
      "cell_type": "code",
      "source": [
        "# Define the function: f(x) = 4x^3 + 3x - 6\n",
        "def f(x):\n",
        "    return 4*x**3 + 3*x - 6\n",
        "\n",
        "# Derivative of f(x): f'(x) = 12*x**2 - 3\n",
        "def f_prime(x):\n",
        "    return 12*x**2 - 3\n",
        "\n",
        "# Evaluate derivative at a point\n",
        "x_val = 2\n",
        "print(f\"Derivative at x = {x_val}: {f_prime(x_val)}\")"
      ],
      "metadata": {
        "colab": {
          "base_uri": "https://localhost:8080/"
        },
        "id": "d8yHs6j9kAJE",
        "outputId": "a8d6814a-f686-44ee-94d8-145effc26b1a"
      },
      "execution_count": 3,
      "outputs": [
        {
          "output_type": "stream",
          "name": "stdout",
          "text": [
            "Derivative at x = 2: 45\n"
          ]
        }
      ]
    },
    {
      "cell_type": "code",
      "source": [
        "# Simple Gradient Descent Update Step\n",
        "learning_rate = 0.3\n",
        "x = 2  # starting point\n",
        "\n",
        "# Perform one step of gradient descent\n",
        "gradient = f_prime(x)\n",
        "x_new = x - learning_rate * gradient\n",
        "\n",
        "print(f\"New x after one gradient descent step: {x_new}\")\n",
        ""
      ],
      "metadata": {
        "colab": {
          "base_uri": "https://localhost:8080/"
        },
        "id": "5-YLxvZTkJjR",
        "outputId": "bec38136-2974-48ee-93c1-ffb89af226c6"
      },
      "execution_count": 4,
      "outputs": [
        {
          "output_type": "stream",
          "name": "stdout",
          "text": [
            "New x after one gradient descent step: -11.5\n"
          ]
        }
      ]
    }
  ]
}